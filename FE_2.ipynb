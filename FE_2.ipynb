{
 "cells": [
  {
   "cell_type": "markdown",
   "id": "51234658",
   "metadata": {},
   "source": [
    "#Ans1.) \n",
    "\n",
    "The Filter method is a feature selection technique that evaluates the relevance of features independently of the model. It works by ranking features based on certain criteria, such as correlation with the target variable, statistical tests like ANOVA or chi-square, or information gain. Once the features are ranked, a subset of the top-ranked features is selected for further analysis"
   ]
  },
  {
   "cell_type": "code",
   "execution_count": null,
   "id": "a91cb483",
   "metadata": {},
   "outputs": [],
   "source": []
  },
  {
   "cell_type": "markdown",
   "id": "58dd7d33",
   "metadata": {},
   "source": [
    "#Ans2.) \n",
    "\n",
    "The Wrapper method differs from the Filter method in that it evaluates subsets of features by training and testing the model on different combinations of features. It searches through the space of possible feature subsets and selects the best subset based on the model's performance. Unlike the Filter method, the Wrapper method considers the interaction between features and their impact on the model's performance."
   ]
  },
  {
   "cell_type": "code",
   "execution_count": null,
   "id": "8c268629",
   "metadata": {},
   "outputs": [],
   "source": []
  },
  {
   "cell_type": "markdown",
   "id": "9e90b7f0",
   "metadata": {},
   "source": [
    "#Ans3.) \n",
    "\n",
    "Common techniques used in Embedded feature selection methods include:\n",
    "\n",
    "LASSO (Least Absolute Shrinkage and Selection Operator)\n",
    "Ridge Regression\n",
    "Elastic Net\n",
    "Decision Trees\n",
    "Random Forests\n",
    "Gradient Boosting Machines (GBM)\n",
    "Support Vector Machines (SVM) with regularization"
   ]
  },
  {
   "cell_type": "code",
   "execution_count": null,
   "id": "944158b3",
   "metadata": {},
   "outputs": [],
   "source": []
  },
  {
   "cell_type": "markdown",
   "id": "93a87498",
   "metadata": {},
   "source": [
    "#Ans4.) \n",
    "\n",
    "Some drawbacks of using the Filter method for feature selection include:\n",
    "\n",
    "It may overlook the interaction between features since it evaluates them independently.\n",
    "It may select redundant features that are highly correlated with each other.\n",
    "It may not consider the model's performance, leading to suboptimal feature subsets"
   ]
  },
  {
   "cell_type": "code",
   "execution_count": null,
   "id": "48833292",
   "metadata": {},
   "outputs": [],
   "source": []
  },
  {
   "cell_type": "markdown",
   "id": "319d03ef",
   "metadata": {},
   "source": [
    "#Ans5.) \n",
    "\n",
    "We can prefer using the Filter method over the Wrapper method in the following situations:\n",
    "\n",
    "When you have a large dataset and computational resources are limited.\n",
    "When you want a quick and simple feature selection technique without the need for extensive model training.\n",
    "When the relationship between features and the target variable is relatively simple and linear"
   ]
  },
  {
   "cell_type": "code",
   "execution_count": null,
   "id": "80ea7e70",
   "metadata": {},
   "outputs": [],
   "source": []
  },
  {
   "cell_type": "markdown",
   "id": "2d38cf68",
   "metadata": {},
   "source": [
    "#Ans6.) \n",
    "\n",
    "To choose the most pertinent attributes for the model using the Filter Method in the telecom company's project, I would follow these steps:\n",
    "\n",
    "Calculate the correlation between each feature and the target variable (customer churn).\n",
    "Use statistical tests like ANOVA or chi-square to evaluate the significance of each feature in predicting churn.\n",
    "Select the top-ranked features based on correlation and statistical significance as the most pertinent attributes for the model."
   ]
  },
  {
   "cell_type": "code",
   "execution_count": null,
   "id": "b26abbaf",
   "metadata": {},
   "outputs": [],
   "source": []
  },
  {
   "cell_type": "markdown",
   "id": "1d2691d0",
   "metadata": {},
   "source": [
    "#Ans7.) \n",
    "\n",
    "To use the Embedded method to select the most relevant features for predicting the outcome of a soccer match, I would employ techniques like:\n",
    "\n",
    "LASSO regression, which penalizes the absolute size of the regression coefficients and encourages sparsity in the model.\n",
    "Ridge regression, which penalizes the squared size of the regression coefficients and can handle multicollinearity among features.\n",
    "Decision Trees or Random Forests, which inherently perform feature selection by selecting the most informative features at each node of the tree"
   ]
  },
  {
   "cell_type": "code",
   "execution_count": null,
   "id": "e9e34c40",
   "metadata": {},
   "outputs": [],
   "source": []
  },
  {
   "cell_type": "markdown",
   "id": "4a618347",
   "metadata": {},
   "source": [
    "#Ans8.) \n",
    "\n",
    "To use the Wrapper method to select the best set of features for predicting the price of a house, I would employ techniques like:\n",
    "\n",
    "Recursive Feature Elimination (RFE), which recursively removes the least important features and selects the best subset based on the model's performance.\n",
    "Forward selection, which starts with an empty set of features and adds the most informative feature in each iteration until the desired number of features is reached or the model's performance stops improving.\n",
    "Backward elimination, which starts with all features and removes the least important feature in each iteration until the desired number of features is reached or the model's performance stops improving."
   ]
  },
  {
   "cell_type": "code",
   "execution_count": null,
   "id": "a495109a",
   "metadata": {},
   "outputs": [],
   "source": []
  },
  {
   "cell_type": "code",
   "execution_count": null,
   "id": "b3b22a61",
   "metadata": {},
   "outputs": [],
   "source": []
  }
 ],
 "metadata": {
  "kernelspec": {
   "display_name": "Python 3 (ipykernel)",
   "language": "python",
   "name": "python3"
  },
  "language_info": {
   "codemirror_mode": {
    "name": "ipython",
    "version": 3
   },
   "file_extension": ".py",
   "mimetype": "text/x-python",
   "name": "python",
   "nbconvert_exporter": "python",
   "pygments_lexer": "ipython3",
   "version": "3.11.4"
  }
 },
 "nbformat": 4,
 "nbformat_minor": 5
}
